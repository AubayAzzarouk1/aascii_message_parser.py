{
 "cells": [
  {
   "cell_type": "code",
   "execution_count": 72,
   "id": "17f979db",
   "metadata": {},
   "outputs": [
    {
     "data": {
      "text/plain": [
       "' Key points: \\n\\n- The document specifies the Unicode characters in the grid, along with x, y coordinates of each charcter. \\n- The min possible value of these coordinates is 0, \\nthere is no max possible values, \\n- so the grid can be arbitrarily large. \\n- Any positions in the grid that do not have a specified character, \\n- should be filled with a space character. \\n- You can assume the doc will always have the same format \\n- as the example doc linked above. \\n\\n- Helper functions , w / at least one func. \\n- takes in one arg, string. url, w / input data. \\n- When called, prints the grid of characters specified by input data, displaying \\n- graphic of correctly oriented up case leters. \\n\\n'"
      ]
     },
     "execution_count": 72,
     "metadata": {},
     "output_type": "execute_result"
    }
   ],
   "source": [
    "#Coding Exercise: Decoding a Secret Msg\n",
    "#Python\n",
    "#Aubay Azzarouk \n",
    "\n",
    "#Problem: \n",
    "#Decode Google Doc containing Unicode Characters, and their positions in a 2-d Grid.\n",
    "\n",
    "#Your task is to write a function that takes in a URL f\n",
    "#for such a google doc as an arg, \n",
    "#retrieves and parses the data in the doc,\n",
    "#prints the grid of characters. \n",
    "\n",
    "#When printed in a fixed-width font, the charactesr in the grid will form a graphic showing a \n",
    "#sequence of uppercase letters, which is the secret message.\n",
    "\n",
    "''' Key points: \n",
    "\n",
    "- The document specifies the Unicode characters in the grid, along with x, y coordinates of each charcter. \n",
    "- The min possible value of these coordinates is 0, \n",
    "there is no max possible values, \n",
    "- so the grid can be arbitrarily large. \n",
    "- Any positions in the grid that do not have a specified character, \n",
    "- should be filled with a space character. \n",
    "- You can assume the doc will always have the same format \n",
    "- as the example doc linked above. \n",
    "\n",
    "- Helper functions , w / at least one func. \n",
    "- takes in one arg, string. url, w / input data. \n",
    "- When called, prints the grid of characters specified by input data, displaying \n",
    "- graphic of correctly oriented up case leters. \n",
    "\n",
    "'''\n"
   ]
  },
  {
   "cell_type": "code",
   "execution_count": 73,
   "id": "a54d03dc",
   "metadata": {},
   "outputs": [
    {
     "name": "stdout",
     "output_type": "stream",
     "text": [
      "Requirement already satisfied: bs4 in /Library/Frameworks/Python.framework/Versions/3.12/lib/python3.12/site-packages (0.0.2)\n",
      "Requirement already satisfied: beautifulsoup4 in /Library/Frameworks/Python.framework/Versions/3.12/lib/python3.12/site-packages (from bs4) (4.13.3)\n",
      "Requirement already satisfied: soupsieve>1.2 in /Library/Frameworks/Python.framework/Versions/3.12/lib/python3.12/site-packages (from beautifulsoup4->bs4) (2.6)\n",
      "Requirement already satisfied: typing-extensions>=4.0.0 in /Library/Frameworks/Python.framework/Versions/3.12/lib/python3.12/site-packages (from beautifulsoup4->bs4) (4.13.0)\n",
      "\n",
      "\u001b[1m[\u001b[0m\u001b[34;49mnotice\u001b[0m\u001b[1;39;49m]\u001b[0m\u001b[39;49m A new release of pip is available: \u001b[0m\u001b[31;49m25.0.1\u001b[0m\u001b[39;49m -> \u001b[0m\u001b[32;49m25.1.1\u001b[0m\n",
      "\u001b[1m[\u001b[0m\u001b[34;49mnotice\u001b[0m\u001b[1;39;49m]\u001b[0m\u001b[39;49m To update, run: \u001b[0m\u001b[32;49mpip3 install --upgrade pip\u001b[0m\n",
      "Note: you may need to restart the kernel to use updated packages.\n"
     ]
    }
   ],
   "source": [
    "pip install bs4"
   ]
  },
  {
   "cell_type": "code",
   "execution_count": 74,
   "id": "a0cbf1bc",
   "metadata": {},
   "outputs": [
    {
     "name": "stdout",
     "output_type": "stream",
     "text": [
      "02 █▀▀▀\n",
      "01 █▀▀ \n",
      "00 █   \n",
      "06 ██░    ███░ ██████░    ███████░  ██░           ███░ ██████████░ ████████░    ████████░  \n",
      "05 ██░  ███░     ██░    ███░    ██░ ███░   ███░   ██░  ██░         ██░     ██░  ██░     ██░\n",
      "04 ██░███░       ██░   ███░          ██░  █████░ ███░  ██░         ██░      ██░ ██░     ██░\n",
      "03 ████░         ██░   ██░           ███░ ██░██░ ██░   ████████░   ██░      ██░ ████████░  \n",
      "02 ██░███░       ██░   ███░           ██░██░ ██░██░    ██░         ██░      ██░ ██░     ██░\n",
      "01 ██░  ███░     ██░    ███░    ██░   ████░   ████░    ██░         ██░     ██░  ██░     ██░\n",
      "00 ██░    ███░ ██████░    ███████░     ██░     ██░     ██████████░ ████████░    ████████░  \n"
     ]
    }
   ],
   "source": [
    "#Using BeautifulSoup class to extract/parse the HTML google doc: \n",
    "from bs4 import BeautifulSoup # version 4 for update. \n",
    "import httpx #import http client lib for data extraction. \n",
    "\n",
    "#Define google doc - url: \n",
    "#Url of Google Doc to decode\n",
    "google_doc = \"https://docs.google.com/document/d/e/2PACX-1vRMx5YQlZNa3ra8dYYxmv-QIQ3YJe8tbI3kqcuC7lQiZm-CSEznKfN_HYNSpoXcZIV3Y_O3YoUB1ecq/pub\"\n",
    "#read_google_doc(google_doc) \n",
    "\n",
    "#Modularized Code to decode a secret msg.\n",
    "\n",
    "#Helper functions: \n",
    "def fetch_html(url: str) -> str:\n",
    "    '''fetch raw html content from input url'''\n",
    "    http_data = httpx.get(url) #store call to fetch data via http get request \n",
    "    http_data.raise_for_status() #check if valid (general)\n",
    "    return http_data.text #return html content (as str format)\n",
    "\n",
    "def parse_html_table(html:str) -> list: \n",
    "    ''' parse html table to extract data and return as lst (x,y,char) tuple\n",
    "        Assume ech row has 3 <td> elements. x,y coord and char. \n",
    "        *remove [1:] slicing if first row of table is NOT header*'''\n",
    "    \n",
    "    #define b.soup object as (html (content,parser) -> tree)\n",
    "    parsed_html_tree = BeautifulSoup(html, 'html.parser')\n",
    "    # find all <tr> (tablerow) elements, and skip header row(1)\n",
    "    tr_occurences = parsed_html_tree.find_all('tr')[1:]\n",
    "\n",
    "    coordinates = []\n",
    "    #iterate through each table row elements and extract x,y, and char values into list.\n",
    "    for r in tr_occurences: \n",
    "        element_list = r.find_all('td')\n",
    "        if len(element_list) == 3: #strict \n",
    "            x = int(element_list[0].text.strip())\n",
    "            char = element_list[1].text.strip() #extract char text (2nd) <td> element.\n",
    "            y = int(element_list[2].text.strip())\n",
    "            coordinates.append((x,y,char)) #(x,y,char) tuple.\n",
    "\n",
    "    return coordinates\n",
    "\n",
    "def build_grid(coords: list) -> list:\n",
    "    '''Building 2-dim grid from allocated character indices'''\n",
    "\n",
    "    #determine size of the grid based on max x,y vals. \n",
    "    max_x = max(x for x, y, _ in coords)\n",
    "    max_y = max(y for x,y,_ in coords)\n",
    "\n",
    "    #grid = list of lists, with space and max rows/cols.\n",
    "    grid = [[' ' for _ in range(max_x + 1)] for _ in range(max_y + 1)]\n",
    "\n",
    "    #place char in correspondence to proper x,y coordinate\n",
    "    for x,y,char in coords:\n",
    "        grid[y][x] = char\n",
    "\n",
    "    return grid \n",
    "\n",
    "#reversed grid print (decoded msg (letter 'F'))          \n",
    "def print_grid_as_msg(grid:list): \n",
    "    '''Print Grid in top-down orientation'''\n",
    "    #flip rows/y-values from top to bottom s.t y = 0 is at the bottom w/ respect to cartesian grids.\n",
    "    for i,row in enumerate(reversed(grid)):\n",
    "        #print row id (00 via 02d) alongside correct labels post-reversal of bottom-top coord system.\n",
    "        print(f\"{len(grid) - 1 - i:02d} {''.join(row)}\")\n",
    "    \n",
    "#Main\n",
    "def read_google_doc(url_id: str):\n",
    "    html = fetch_html(url_id) #store call to fetch data via http get request \n",
    "    coords = parse_html_table(html)\n",
    "    grid = build_grid(coords)\n",
    "    print_grid_as_msg(grid)\n",
    "\n",
    "read_google_doc(google_doc)\n",
    "\n",
    "#test:\n",
    "\n",
    "new_msg = 'https://docs.google.com/document/d/e/2PACX-1vTER-wL5E8YC9pxDx43gk8eIds59GtUUk4nJo_ZWagbnrH0NFvMXIw6VWFLpf5tWTZIT9P9oLIoFJ6A/pub'\n",
    "\n",
    "read_google_doc(new_msg)\n",
    "\n",
    "\n",
    "    "
   ]
  }
 ],
 "metadata": {
  "language_info": {
   "name": "python"
  }
 },
 "nbformat": 4,
 "nbformat_minor": 5
}
